{
 "cells": [
  {
   "cell_type": "code",
   "execution_count": null,
   "metadata": {
    "colab": {
     "base_uri": "https://localhost:8080/"
    },
    "id": "aHLVb4j8_-UY",
    "outputId": "e896a2d8-4b5c-4d54-95f0-a8249c5e37ba"
   },
   "outputs": [
    {
     "name": "stdout",
     "output_type": "stream",
     "text": [
      "\u001b[2K   \u001b[90m━━━━━━━━━━━━━━━━━━━━━━━━━━━━━━━━━━━━━━━━\u001b[0m \u001b[32m31.3/31.3 MB\u001b[0m \u001b[31m32.1 MB/s\u001b[0m eta \u001b[36m0:00:00\u001b[0m\n",
      "\u001b[2K   \u001b[90m━━━━━━━━━━━━━━━━━━━━━━━━━━━━━━━━━━━━━━━━\u001b[0m \u001b[32m363.4/363.4 MB\u001b[0m \u001b[31m3.3 MB/s\u001b[0m eta \u001b[36m0:00:00\u001b[0m\n",
      "\u001b[2K   \u001b[90m━━━━━━━━━━━━━━━━━━━━━━━━━━━━━━━━━━━━━━━━\u001b[0m \u001b[32m13.8/13.8 MB\u001b[0m \u001b[31m64.7 MB/s\u001b[0m eta \u001b[36m0:00:00\u001b[0m\n",
      "\u001b[2K   \u001b[90m━━━━━━━━━━━━━━━━━━━━━━━━━━━━━━━━━━━━━━━━\u001b[0m \u001b[32m24.6/24.6 MB\u001b[0m \u001b[31m37.9 MB/s\u001b[0m eta \u001b[36m0:00:00\u001b[0m\n",
      "\u001b[2K   \u001b[90m━━━━━━━━━━━━━━━━━━━━━━━━━━━━━━━━━━━━━━━━\u001b[0m \u001b[32m883.7/883.7 kB\u001b[0m \u001b[31m46.0 MB/s\u001b[0m eta \u001b[36m0:00:00\u001b[0m\n",
      "\u001b[2K   \u001b[90m━━━━━━━━━━━━━━━━━━━━━━━━━━━━━━━━━━━━━━━━\u001b[0m \u001b[32m664.8/664.8 MB\u001b[0m \u001b[31m2.1 MB/s\u001b[0m eta \u001b[36m0:00:00\u001b[0m\n",
      "\u001b[2K   \u001b[90m━━━━━━━━━━━━━━━━━━━━━━━━━━━━━━━━━━━━━━━━\u001b[0m \u001b[32m211.5/211.5 MB\u001b[0m \u001b[31m6.6 MB/s\u001b[0m eta \u001b[36m0:00:00\u001b[0m\n",
      "\u001b[2K   \u001b[90m━━━━━━━━━━━━━━━━━━━━━━━━━━━━━━━━━━━━━━━━\u001b[0m \u001b[32m56.3/56.3 MB\u001b[0m \u001b[31m12.9 MB/s\u001b[0m eta \u001b[36m0:00:00\u001b[0m\n",
      "\u001b[2K   \u001b[90m━━━━━━━━━━━━━━━━━━━━━━━━━━━━━━━━━━━━━━━━\u001b[0m \u001b[32m127.9/127.9 MB\u001b[0m \u001b[31m8.5 MB/s\u001b[0m eta \u001b[36m0:00:00\u001b[0m\n",
      "\u001b[2K   \u001b[90m━━━━━━━━━━━━━━━━━━━━━━━━━━━━━━━━━━━━━━━━\u001b[0m \u001b[32m207.5/207.5 MB\u001b[0m \u001b[31m6.0 MB/s\u001b[0m eta \u001b[36m0:00:00\u001b[0m\n",
      "\u001b[2K   \u001b[90m━━━━━━━━━━━━━━━━━━━━━━━━━━━━━━━━━━━━━━━━\u001b[0m \u001b[32m21.1/21.1 MB\u001b[0m \u001b[31m39.1 MB/s\u001b[0m eta \u001b[36m0:00:00\u001b[0m\n",
      "\u001b[?25h"
     ]
    }
   ],
   "source": [
    "# Install essential libraries:\n",
    "# - langchain for building LLM apps,\n",
    "# - faiss-cpu for fast vector similarity search,\n",
    "# - sentence-transformers for generating text embeddings\n",
    "!pip install -q langchain faiss-cpu sentence-transformers"
   ]
  },
  {
   "cell_type": "code",
   "execution_count": null,
   "metadata": {
    "colab": {
     "base_uri": "https://localhost:8080/"
    },
    "id": "P3rgI8Z7Abn9",
    "outputId": "33f1ce78-71fd-49c4-d9d9-637831750223"
   },
   "outputs": [
    {
     "name": "stdout",
     "output_type": "stream",
     "text": [
      "✅ Sample documents created.\n"
     ]
    }
   ],
   "source": [
    "#Create Fake Internal Documents\n",
    "import os\n",
    "\n",
    "# Create a folder to store documents\n",
    "os.makedirs(\"data/docs\", exist_ok=True)\n",
    "\n",
    "# Create sample refund policy document\n",
    "with open(\"data/docs/refund_policy.txt\", \"w\") as f:\n",
    "    f.write(\"\"\"\n",
    "    Refund Policy:\n",
    "    Customers can request a refund within 30 days of purchase.\n",
    "    To initiate a refund, contact support@company.com with your order ID.\n",
    "    Refunds take 5–7 business days to process.\n",
    "    \"\"\")\n",
    "\n",
    "# Create sample leave policy document\n",
    "with open(\"data/docs/leave_policy.txt\", \"w\") as f:\n",
    "    f.write(\"\"\"\n",
    "    Leave Policy:\n",
    "    Employees are entitled to 20 paid leaves per year.\n",
    "    Leave requests must be submitted at least 3 days in advance.\n",
    "    Use the HR portal to apply for leave.\n",
    "    \"\"\")\n",
    "\n",
    "# Create sample design request guide\n",
    "with open(\"data/docs/design_request.txt\", \"w\") as f:\n",
    "    f.write(\"\"\"\n",
    "    Design Asset Request:\n",
    "    To request a design asset, fill out the form on the intranet.\n",
    "    Requests are handled by the Creative team within 48 hours.\n",
    "    Mention dimensions, format, and usage clearly.\n",
    "    \"\"\")\n",
    "\n",
    "print(\"✅ Sample documents created.\")\n"
   ]
  },
  {
   "cell_type": "code",
   "execution_count": null,
   "metadata": {
    "colab": {
     "base_uri": "https://localhost:8080/"
    },
    "id": "8IziDT3_BNNm",
    "outputId": "1a6e1bc7-17eb-46d1-fce4-0755ef1002a0"
   },
   "outputs": [
    {
     "name": "stdout",
     "output_type": "stream",
     "text": [
      "Collecting langchain-community\n",
      "  Downloading langchain_community-0.3.27-py3-none-any.whl.metadata (2.9 kB)\n",
      "Requirement already satisfied: langchain-core<1.0.0,>=0.3.66 in /usr/local/lib/python3.11/dist-packages (from langchain-community) (0.3.69)\n",
      "Requirement already satisfied: langchain<1.0.0,>=0.3.26 in /usr/local/lib/python3.11/dist-packages (from langchain-community) (0.3.26)\n",
      "Requirement already satisfied: SQLAlchemy<3,>=1.4 in /usr/local/lib/python3.11/dist-packages (from langchain-community) (2.0.41)\n",
      "Requirement already satisfied: requests<3,>=2 in /usr/local/lib/python3.11/dist-packages (from langchain-community) (2.32.3)\n",
      "Requirement already satisfied: PyYAML>=5.3 in /usr/local/lib/python3.11/dist-packages (from langchain-community) (6.0.2)\n",
      "Requirement already satisfied: aiohttp<4.0.0,>=3.8.3 in /usr/local/lib/python3.11/dist-packages (from langchain-community) (3.11.15)\n",
      "Requirement already satisfied: tenacity!=8.4.0,<10,>=8.1.0 in /usr/local/lib/python3.11/dist-packages (from langchain-community) (8.5.0)\n",
      "Collecting dataclasses-json<0.7,>=0.5.7 (from langchain-community)\n",
      "  Downloading dataclasses_json-0.6.7-py3-none-any.whl.metadata (25 kB)\n",
      "Collecting pydantic-settings<3.0.0,>=2.4.0 (from langchain-community)\n",
      "  Downloading pydantic_settings-2.10.1-py3-none-any.whl.metadata (3.4 kB)\n",
      "Requirement already satisfied: langsmith>=0.1.125 in /usr/local/lib/python3.11/dist-packages (from langchain-community) (0.4.6)\n",
      "Collecting httpx-sse<1.0.0,>=0.4.0 (from langchain-community)\n",
      "  Downloading httpx_sse-0.4.1-py3-none-any.whl.metadata (9.4 kB)\n",
      "Requirement already satisfied: numpy>=1.26.2 in /usr/local/lib/python3.11/dist-packages (from langchain-community) (2.0.2)\n",
      "Requirement already satisfied: aiohappyeyeballs>=2.3.0 in /usr/local/lib/python3.11/dist-packages (from aiohttp<4.0.0,>=3.8.3->langchain-community) (2.6.1)\n",
      "Requirement already satisfied: aiosignal>=1.1.2 in /usr/local/lib/python3.11/dist-packages (from aiohttp<4.0.0,>=3.8.3->langchain-community) (1.4.0)\n",
      "Requirement already satisfied: attrs>=17.3.0 in /usr/local/lib/python3.11/dist-packages (from aiohttp<4.0.0,>=3.8.3->langchain-community) (25.3.0)\n",
      "Requirement already satisfied: frozenlist>=1.1.1 in /usr/local/lib/python3.11/dist-packages (from aiohttp<4.0.0,>=3.8.3->langchain-community) (1.7.0)\n",
      "Requirement already satisfied: multidict<7.0,>=4.5 in /usr/local/lib/python3.11/dist-packages (from aiohttp<4.0.0,>=3.8.3->langchain-community) (6.6.3)\n",
      "Requirement already satisfied: propcache>=0.2.0 in /usr/local/lib/python3.11/dist-packages (from aiohttp<4.0.0,>=3.8.3->langchain-community) (0.3.2)\n",
      "Requirement already satisfied: yarl<2.0,>=1.17.0 in /usr/local/lib/python3.11/dist-packages (from aiohttp<4.0.0,>=3.8.3->langchain-community) (1.20.1)\n",
      "Collecting marshmallow<4.0.0,>=3.18.0 (from dataclasses-json<0.7,>=0.5.7->langchain-community)\n",
      "  Downloading marshmallow-3.26.1-py3-none-any.whl.metadata (7.3 kB)\n",
      "Collecting typing-inspect<1,>=0.4.0 (from dataclasses-json<0.7,>=0.5.7->langchain-community)\n",
      "  Downloading typing_inspect-0.9.0-py3-none-any.whl.metadata (1.5 kB)\n",
      "Requirement already satisfied: langchain-text-splitters<1.0.0,>=0.3.8 in /usr/local/lib/python3.11/dist-packages (from langchain<1.0.0,>=0.3.26->langchain-community) (0.3.8)\n",
      "Requirement already satisfied: pydantic<3.0.0,>=2.7.4 in /usr/local/lib/python3.11/dist-packages (from langchain<1.0.0,>=0.3.26->langchain-community) (2.11.7)\n",
      "Requirement already satisfied: jsonpatch<2.0,>=1.33 in /usr/local/lib/python3.11/dist-packages (from langchain-core<1.0.0,>=0.3.66->langchain-community) (1.33)\n",
      "Requirement already satisfied: typing-extensions>=4.7 in /usr/local/lib/python3.11/dist-packages (from langchain-core<1.0.0,>=0.3.66->langchain-community) (4.14.1)\n",
      "Requirement already satisfied: packaging>=23.2 in /usr/local/lib/python3.11/dist-packages (from langchain-core<1.0.0,>=0.3.66->langchain-community) (25.0)\n",
      "Requirement already satisfied: httpx<1,>=0.23.0 in /usr/local/lib/python3.11/dist-packages (from langsmith>=0.1.125->langchain-community) (0.28.1)\n",
      "Requirement already satisfied: orjson<4.0.0,>=3.9.14 in /usr/local/lib/python3.11/dist-packages (from langsmith>=0.1.125->langchain-community) (3.11.0)\n",
      "Requirement already satisfied: requests-toolbelt<2.0.0,>=1.0.0 in /usr/local/lib/python3.11/dist-packages (from langsmith>=0.1.125->langchain-community) (1.0.0)\n",
      "Requirement already satisfied: zstandard<0.24.0,>=0.23.0 in /usr/local/lib/python3.11/dist-packages (from langsmith>=0.1.125->langchain-community) (0.23.0)\n",
      "Collecting python-dotenv>=0.21.0 (from pydantic-settings<3.0.0,>=2.4.0->langchain-community)\n",
      "  Downloading python_dotenv-1.1.1-py3-none-any.whl.metadata (24 kB)\n",
      "Requirement already satisfied: typing-inspection>=0.4.0 in /usr/local/lib/python3.11/dist-packages (from pydantic-settings<3.0.0,>=2.4.0->langchain-community) (0.4.1)\n",
      "Requirement already satisfied: charset-normalizer<4,>=2 in /usr/local/lib/python3.11/dist-packages (from requests<3,>=2->langchain-community) (3.4.2)\n",
      "Requirement already satisfied: idna<4,>=2.5 in /usr/local/lib/python3.11/dist-packages (from requests<3,>=2->langchain-community) (3.10)\n",
      "Requirement already satisfied: urllib3<3,>=1.21.1 in /usr/local/lib/python3.11/dist-packages (from requests<3,>=2->langchain-community) (2.4.0)\n",
      "Requirement already satisfied: certifi>=2017.4.17 in /usr/local/lib/python3.11/dist-packages (from requests<3,>=2->langchain-community) (2025.7.14)\n",
      "Requirement already satisfied: greenlet>=1 in /usr/local/lib/python3.11/dist-packages (from SQLAlchemy<3,>=1.4->langchain-community) (3.2.3)\n",
      "Requirement already satisfied: anyio in /usr/local/lib/python3.11/dist-packages (from httpx<1,>=0.23.0->langsmith>=0.1.125->langchain-community) (4.9.0)\n",
      "Requirement already satisfied: httpcore==1.* in /usr/local/lib/python3.11/dist-packages (from httpx<1,>=0.23.0->langsmith>=0.1.125->langchain-community) (1.0.9)\n",
      "Requirement already satisfied: h11>=0.16 in /usr/local/lib/python3.11/dist-packages (from httpcore==1.*->httpx<1,>=0.23.0->langsmith>=0.1.125->langchain-community) (0.16.0)\n",
      "Requirement already satisfied: jsonpointer>=1.9 in /usr/local/lib/python3.11/dist-packages (from jsonpatch<2.0,>=1.33->langchain-core<1.0.0,>=0.3.66->langchain-community) (3.0.0)\n",
      "Requirement already satisfied: annotated-types>=0.6.0 in /usr/local/lib/python3.11/dist-packages (from pydantic<3.0.0,>=2.7.4->langchain<1.0.0,>=0.3.26->langchain-community) (0.7.0)\n",
      "Requirement already satisfied: pydantic-core==2.33.2 in /usr/local/lib/python3.11/dist-packages (from pydantic<3.0.0,>=2.7.4->langchain<1.0.0,>=0.3.26->langchain-community) (2.33.2)\n",
      "Collecting mypy-extensions>=0.3.0 (from typing-inspect<1,>=0.4.0->dataclasses-json<0.7,>=0.5.7->langchain-community)\n",
      "  Downloading mypy_extensions-1.1.0-py3-none-any.whl.metadata (1.1 kB)\n",
      "Requirement already satisfied: sniffio>=1.1 in /usr/local/lib/python3.11/dist-packages (from anyio->httpx<1,>=0.23.0->langsmith>=0.1.125->langchain-community) (1.3.1)\n",
      "Downloading langchain_community-0.3.27-py3-none-any.whl (2.5 MB)\n",
      "\u001b[2K   \u001b[90m━━━━━━━━━━━━━━━━━━━━━━━━━━━━━━━━━━━━━━━━\u001b[0m \u001b[32m2.5/2.5 MB\u001b[0m \u001b[31m33.9 MB/s\u001b[0m eta \u001b[36m0:00:00\u001b[0m\n",
      "\u001b[?25hDownloading dataclasses_json-0.6.7-py3-none-any.whl (28 kB)\n",
      "Downloading httpx_sse-0.4.1-py3-none-any.whl (8.1 kB)\n",
      "Downloading pydantic_settings-2.10.1-py3-none-any.whl (45 kB)\n",
      "\u001b[2K   \u001b[90m━━━━━━━━━━━━━━━━━━━━━━━━━━━━━━━━━━━━━━━━\u001b[0m \u001b[32m45.2/45.2 kB\u001b[0m \u001b[31m4.7 MB/s\u001b[0m eta \u001b[36m0:00:00\u001b[0m\n",
      "\u001b[?25hDownloading marshmallow-3.26.1-py3-none-any.whl (50 kB)\n",
      "\u001b[2K   \u001b[90m━━━━━━━━━━━━━━━━━━━━━━━━━━━━━━━━━━━━━━━━\u001b[0m \u001b[32m50.9/50.9 kB\u001b[0m \u001b[31m5.0 MB/s\u001b[0m eta \u001b[36m0:00:00\u001b[0m\n",
      "\u001b[?25hDownloading python_dotenv-1.1.1-py3-none-any.whl (20 kB)\n",
      "Downloading typing_inspect-0.9.0-py3-none-any.whl (8.8 kB)\n",
      "Downloading mypy_extensions-1.1.0-py3-none-any.whl (5.0 kB)\n",
      "Installing collected packages: python-dotenv, mypy-extensions, marshmallow, httpx-sse, typing-inspect, pydantic-settings, dataclasses-json, langchain-community\n",
      "Successfully installed dataclasses-json-0.6.7 httpx-sse-0.4.1 langchain-community-0.3.27 marshmallow-3.26.1 mypy-extensions-1.1.0 pydantic-settings-2.10.1 python-dotenv-1.1.1 typing-inspect-0.9.0\n"
     ]
    }
   ],
   "source": [
    "# Install the latest version of langchain-community, which includes document loaders and integrations\n",
    "!pip install -U langchain-community"
   ]
  },
  {
   "cell_type": "code",
   "execution_count": null,
   "metadata": {
    "colab": {
     "base_uri": "https://localhost:8080/"
    },
    "id": "DJz2jFSIAhjU",
    "outputId": "7bd71a79-e590-4a29-9f95-a77eb4189971"
   },
   "outputs": [
    {
     "name": "stdout",
     "output_type": "stream",
     "text": [
      "✅ Loaded and split 3 document chunks.\n"
     ]
    }
   ],
   "source": [
    "#Load & Split Documents (Prepare for AI)\n",
    "from langchain_community.document_loaders import TextLoader\n",
    "from langchain.text_splitter import CharacterTextSplitter\n",
    "import os\n",
    "\n",
    "# Load all text files in the folder\n",
    "docs = []\n",
    "for filename in os.listdir(\"data/docs\"):\n",
    "    loader = TextLoader(os.path.join(\"data/docs\", filename))\n",
    "    docs.extend(loader.load())\n",
    "\n",
    "# Break long texts into smaller chunks (better for AI search)\n",
    "text_splitter = CharacterTextSplitter(chunk_size=300, chunk_overlap=30)\n",
    "documents = text_splitter.split_documents(docs)\n",
    "\n",
    "print(f\"✅ Loaded and split {len(documents)} document chunks.\")\n",
    "\n"
   ]
  },
  {
   "cell_type": "code",
   "execution_count": null,
   "metadata": {
    "colab": {
     "base_uri": "https://localhost:8080/",
     "height": 545,
     "referenced_widgets": [
      "90e870c86a114a4f97979af111d7849c",
      "d0fa7113730b458095f28dcbbb4d2d18",
      "d2ab57fab8724126abdb4a2df803b776",
      "a256f879826a4d11823c9977008cedd0",
      "bde2685ab5a143aca6afce9e33882403",
      "329a283b35244331970c84f59c7fac9b",
      "0a15ef740ca0485eb79a40c74d1c6eb1",
      "fc91004d5ad546fdb77ecf1abcd4cc5b",
      "6aa9b06636314d0a98f470023ddc181c",
      "c988269a858940dcba0d8cd697eb8bc0",
      "d292841b30194d8d9ea6e0bd52d851f4",
      "f2efddef10314b30b6759a129a1781a0",
      "a9f046116aef42fdb4a5e4573e091576",
      "44701a40f28342a699fd520213e6e039",
      "bdfb66f2affd4d09bfc31f7bd5817560",
      "081fe5cb57cb40a7af559c0b82ceb1d9",
      "43b206c234154452843f01a65278157d",
      "67b025da68854e77a99ed6fc3c56d6a2",
      "6aa6650cd462445d8719f988f69a4b22",
      "c190acc0e6044c57ad382ca4bafffd99",
      "617980b9e866428fbc9a7390be32bb00",
      "4d489301bc5e4338ad4853a894bc6bb7",
      "45f04cc019414dd0bd8cf009facf7a4d",
      "71eceb763b9f482ab44649ea09e1b9be",
      "ce471f68daf64c65937e98c8aebbf3ae",
      "893683faebdd47e98f3b46984749aae1",
      "5274126b1ea84ccea5dcda3f21ea2667",
      "4cd879de7c4846d1880c290b64e1cbf8",
      "236eaa1b64324559810035b255f76aa4",
      "5689772311b3414098b9efe2197e74b4",
      "773a7d92ed02438da257219a86762a77",
      "22d5a2a907d643f480aade563674f927",
      "d7538cc898bd421185b298eb77c4472b",
      "730740d23c0544f4a831883b22338497",
      "26ccecd65c774f5696a3790e680ba12f",
      "c5ae1d9ef81d408681f321938fc60980",
      "9c24e115d5e041729e32923b668bc331",
      "20b738e2054441da82ae5e48e11ebc39",
      "725b3dd403174d49bb76fc2add317627",
      "f4eede98dc424d11a536fd0785d3869b",
      "b9a257a50d2c4f87865698d726f611e1",
      "4352deec4d804c80a932b7a44a1edea3",
      "891a8a6f28f247d28bffdd5fd3b27b6d",
      "4136dcea5f7a41c4b1faf41061ef8ea9",
      "70bb543db77c4625a0b2c15642f09f47",
      "442d7d96811a426795c91ba38467aefe",
      "ca51a349d714416ea152eed84dd0ef69",
      "973540150ecc44588cd47f9fb85a34f6",
      "4b975abddf824e87a78d4a8d3a1edc87",
      "6af7771f28574d8892c12d3f5c2be645",
      "5b7b1c373dfe4020b167226280b8077c",
      "493745e680b44da99b348e1771144830",
      "98322bd986824e7b92ebf28cfba9c028",
      "47eaa7f0f7414fa2939bea74f515c9a1",
      "e9e35eb0cee741cfb3757ef73bf20a3c",
      "b95e928ee09c4a0cb5c8fc5f7cdeb4cb",
      "f747a20089f0425da510e2f5afa1f674",
      "a4658e8c57f7438a890ccfff77030e1b",
      "e4d64c09a6d84940a57829ff02eb5995",
      "88a566e4da16412da86d3b9c000ab61c",
      "1aede12998264a568742bda908114a1d",
      "48f2a0c0ca6d4571b884608309ac1d8d",
      "f625c2bae78940d6894cff574d3d94d7",
      "3384ea0d07034157b982aeaf80d357c8",
      "5a3e050e72954d34a9c52ebd8d13e84a",
      "cb159428cab64302988308605df50c59",
      "6df4f718f0454249a37c0a2eaed2f062",
      "47288c9764544f68b287b512824d4dad",
      "cde90bad6f4a4547a29d5272ccf7a635",
      "427dd9a2f64d4f8dbfc69e7ecd6f74d1",
      "4f2a1d1a1132490dbd61c1919aeb608e",
      "4072f0df081f46ffaf1ac17e3aafdf44",
      "1ddcce791270403e8ab689c3473d12e6",
      "e1f93a26d7f045239f8bbbdd5ea7004d",
      "52464e6db39e4b67a3c1e4c3a8556e01",
      "f7c3edcff68b4327a519ee4b14e6ef91",
      "ead7eedc789c48f5a60afe3057d710ee",
      "92a05fbacd20416399e960704809fd66",
      "cb3885cee9704e919e45854d66df6813",
      "eb98bfb75f2343cfaca2fe8eaf6ea8d0",
      "7769eac721ad4f269ea213b67bee1bd9",
      "964c568e454645aba0f0794d075a3951",
      "a40530d15dad42c3a552e3b2ed3c8541",
      "e30e26ef60ec4d00917a922ced8987f2",
      "38ab7ab600c047d49ee82094970498f5",
      "8f884e342bb348db927e71ce93bc71a7",
      "3c133a17a653499c9cab720762f6bad9",
      "c2ff142efc6a42969b7ede4314f27b65",
      "130d66af867241c3ba45018fe83d1832",
      "7c8ead216ace411dbcef336af6040cd8",
      "dd53310eb9af46f7bab749e56effb368",
      "eb40e0d4461a4f06959d99b0174a1ba0",
      "c821be6b518348cebf2c6002b62a1ecc",
      "b68ea04ce1d74f7b8d024206b6297ead",
      "7fe6e2e6c7654696a50abbaa54745311",
      "4cc703824d7c4999bf58d012ec550ca8",
      "f4032fb3c8c242879479dc9e2ecf77ba",
      "c5feb84c387b4b1db5c3442273c66a74",
      "fe945ea3d16f4a01b0f6aa8afb1451fb",
      "ef196b7259a24326b5449957f30ead87",
      "05e1e77468e14b5faef274cccece0648",
      "0f635eb255cb4b0c9b708a3477c4c54f",
      "262a77ad70d54c21b9faf67685d93b2c",
      "8e77494832884d46b354da4983088dc0",
      "19a67947d05b417c923b8f07882d7f86",
      "21f59f01ef1541e5a49b41495c872ff5",
      "86060ac6b5e846dfa31dc6e3240408f0",
      "ad18e19cfcdb44efa913f268b692987d",
      "42c07648e54b4e55b78062c09706a366",
      "b0110c7b6f5d4bdabb13e6dbfde4526b",
      "c6e3a4ca5a564df488995448e6be8e51",
      "381ebb54f3f64673a85d80e96d48115b",
      "c7f19dc889f14b9e9b344718204c81d2",
      "dd967e996bc54522837ee652dd3c6861",
      "2b4ab0af2768455489c94d2cfbde8ffc",
      "2506376f77c84a56b076f273054efa03",
      "25b512efbaef4b4d9391fb532f1eea21",
      "d4d0b8727b7f4312bc58a7b02366a7f4",
      "23b60d937fac4b138c4fe1c721082e4a",
      "64dfeccccbe5480487a9c39533c1fa5d",
      "301b816c89ee40dcb8fead7d11edbc24"
     ]
    },
    "id": "BOX1W1OVBx0k",
    "outputId": "23fe124e-65e9-4b1b-ec74-c42c2ce4cd88"
   },
   "outputs": [
    {
     "name": "stderr",
     "output_type": "stream",
     "text": [
      "/tmp/ipython-input-9-2150518501.py:6: LangChainDeprecationWarning: The class `HuggingFaceEmbeddings` was deprecated in LangChain 0.2.2 and will be removed in 1.0. An updated version of the class exists in the :class:`~langchain-huggingface package and should be used instead. To use it run `pip install -U :class:`~langchain-huggingface` and import as `from :class:`~langchain_huggingface import HuggingFaceEmbeddings``.\n",
      "  embedding = HuggingFaceEmbeddings(model_name=\"all-MiniLM-L6-v2\")\n",
      "/usr/local/lib/python3.11/dist-packages/huggingface_hub/utils/_auth.py:94: UserWarning: \n",
      "The secret `HF_TOKEN` does not exist in your Colab secrets.\n",
      "To authenticate with the Hugging Face Hub, create a token in your settings tab (https://huggingface.co/settings/tokens), set it as secret in your Google Colab and restart your session.\n",
      "You will be able to reuse this secret in all of your notebooks.\n",
      "Please note that authentication is recommended but still optional to access public models or datasets.\n",
      "  warnings.warn(\n"
     ]
    },
    {
     "data": {
      "application/vnd.jupyter.widget-view+json": {
       "model_id": "90e870c86a114a4f97979af111d7849c",
       "version_major": 2,
       "version_minor": 0
      },
      "text/plain": [
       "modules.json:   0%|          | 0.00/349 [00:00<?, ?B/s]"
      ]
     },
     "metadata": {},
     "output_type": "display_data"
    },
    {
     "data": {
      "application/vnd.jupyter.widget-view+json": {
       "model_id": "f2efddef10314b30b6759a129a1781a0",
       "version_major": 2,
       "version_minor": 0
      },
      "text/plain": [
       "config_sentence_transformers.json:   0%|          | 0.00/116 [00:00<?, ?B/s]"
      ]
     },
     "metadata": {},
     "output_type": "display_data"
    },
    {
     "data": {
      "application/vnd.jupyter.widget-view+json": {
       "model_id": "45f04cc019414dd0bd8cf009facf7a4d",
       "version_major": 2,
       "version_minor": 0
      },
      "text/plain": [
       "README.md: 0.00B [00:00, ?B/s]"
      ]
     },
     "metadata": {},
     "output_type": "display_data"
    },
    {
     "data": {
      "application/vnd.jupyter.widget-view+json": {
       "model_id": "730740d23c0544f4a831883b22338497",
       "version_major": 2,
       "version_minor": 0
      },
      "text/plain": [
       "sentence_bert_config.json:   0%|          | 0.00/53.0 [00:00<?, ?B/s]"
      ]
     },
     "metadata": {},
     "output_type": "display_data"
    },
    {
     "data": {
      "application/vnd.jupyter.widget-view+json": {
       "model_id": "70bb543db77c4625a0b2c15642f09f47",
       "version_major": 2,
       "version_minor": 0
      },
      "text/plain": [
       "config.json:   0%|          | 0.00/612 [00:00<?, ?B/s]"
      ]
     },
     "metadata": {},
     "output_type": "display_data"
    },
    {
     "data": {
      "application/vnd.jupyter.widget-view+json": {
       "model_id": "b95e928ee09c4a0cb5c8fc5f7cdeb4cb",
       "version_major": 2,
       "version_minor": 0
      },
      "text/plain": [
       "model.safetensors:   0%|          | 0.00/90.9M [00:00<?, ?B/s]"
      ]
     },
     "metadata": {},
     "output_type": "display_data"
    },
    {
     "data": {
      "application/vnd.jupyter.widget-view+json": {
       "model_id": "6df4f718f0454249a37c0a2eaed2f062",
       "version_major": 2,
       "version_minor": 0
      },
      "text/plain": [
       "tokenizer_config.json:   0%|          | 0.00/350 [00:00<?, ?B/s]"
      ]
     },
     "metadata": {},
     "output_type": "display_data"
    },
    {
     "data": {
      "application/vnd.jupyter.widget-view+json": {
       "model_id": "92a05fbacd20416399e960704809fd66",
       "version_major": 2,
       "version_minor": 0
      },
      "text/plain": [
       "vocab.txt: 0.00B [00:00, ?B/s]"
      ]
     },
     "metadata": {},
     "output_type": "display_data"
    },
    {
     "data": {
      "application/vnd.jupyter.widget-view+json": {
       "model_id": "130d66af867241c3ba45018fe83d1832",
       "version_major": 2,
       "version_minor": 0
      },
      "text/plain": [
       "tokenizer.json: 0.00B [00:00, ?B/s]"
      ]
     },
     "metadata": {},
     "output_type": "display_data"
    },
    {
     "data": {
      "application/vnd.jupyter.widget-view+json": {
       "model_id": "ef196b7259a24326b5449957f30ead87",
       "version_major": 2,
       "version_minor": 0
      },
      "text/plain": [
       "special_tokens_map.json:   0%|          | 0.00/112 [00:00<?, ?B/s]"
      ]
     },
     "metadata": {},
     "output_type": "display_data"
    },
    {
     "data": {
      "application/vnd.jupyter.widget-view+json": {
       "model_id": "c6e3a4ca5a564df488995448e6be8e51",
       "version_major": 2,
       "version_minor": 0
      },
      "text/plain": [
       "config.json:   0%|          | 0.00/190 [00:00<?, ?B/s]"
      ]
     },
     "metadata": {},
     "output_type": "display_data"
    },
    {
     "name": "stdout",
     "output_type": "stream",
     "text": [
      "✅ Vector database created.\n"
     ]
    }
   ],
   "source": [
    "#Convert Documents to AI Vector Format\n",
    "from langchain.vectorstores import FAISS\n",
    "from langchain.embeddings import HuggingFaceEmbeddings\n",
    "\n",
    "# Load embedding model from Hugging Face (used to convert text into vector numbers)\n",
    "embedding = HuggingFaceEmbeddings(model_name=\"all-MiniLM-L6-v2\")\n",
    "\n",
    "# Build a searchable vector database\n",
    "vectorstore = FAISS.from_documents(documents, embedding)\n",
    "\n",
    "print(\"✅ Vector database created.\")\n"
   ]
  },
  {
   "cell_type": "code",
   "execution_count": null,
   "metadata": {
    "id": "SNAw00-PCgs_"
   },
   "outputs": [],
   "source": [
    "# Install Hugging Face libraries:\n",
    "# - transformers for using pre-trained LLMs\n",
    "# - accelerate for optimized model inference on different hardware (CPU/GPU)\n",
    "!pip install -q transformers accelerate"
   ]
  },
  {
   "cell_type": "code",
   "execution_count": null,
   "metadata": {
    "colab": {
     "base_uri": "https://localhost:8080/",
     "height": 276,
     "referenced_widgets": [
      "c5b92a11a3c848be8e028830dd4f5992",
      "e1002a95e44240249b2d7041ac226fc5",
      "ab60cbfa151540bb9c30bcce176fc8c9",
      "187d648947a14828ab46dcf6551689a8",
      "a53d68f6a98648269ca49fb83bdb3a1c",
      "348a1ab45d05474797882655ef2244bb",
      "88105a81e53844cba1f62240f4f1dc90",
      "3326df95cb794d12b76556e52a037607",
      "88a14a2e1b0441968b2f741344b9ee32",
      "083e62c2d1084cb28b0ebecaf037350b",
      "4eec84e2a8414e01bd31beb6f418ab47",
      "da301b5acc6f4035ba223933638bb735",
      "d654e3f988994fae9aaeb792b1a97d78",
      "52bfddf4ceb141b3bc5b7a2e38cc5097",
      "6f843698f5c042a0b1fe0a206a816216",
      "b40d884c89a94693aeaa412147cfdefa",
      "ff91cf84764f409ab58610d5eafe5457",
      "483b38717a18460ab4597279fab4adfe",
      "c051028f02e2458b96cc74ef64605722",
      "10909437efb542d7b6ff326fc5264755",
      "a60fc05c144144baa6e4c7b084da9481",
      "259fe19341ad424bb16781a7810a3138",
      "7f671ed88a0143f5a8ab76e339bd2a68",
      "68d5d05a9e284f088e84b07ed40575d6",
      "ce8fd74ad39141799df05cfd534f0f00",
      "d628fc7b2b9b4968b2867bc461790b10",
      "75d3c6e9390b41cb990ffeb66e8785c8",
      "9789aac33fc649d1a497e7b82e93441d",
      "80fce038d26e42a4b93354a16b1ec7d3",
      "1fa3f220b15a442ea156cb1745864424",
      "0cf7a0acba3d4b4a851e6435fff58f9b",
      "9db01747bf2349a380f37620bd52331d",
      "e93b27d9d8c64ac7b51780ca82e32f29",
      "46cbe256271741c793c38630c8be76c2",
      "9eabb79e7c7a4a71b08b189071ce2c3d",
      "f6206e722b2046f0a6b4d73d0911d188",
      "186c0ba2aa334e48bfa3a9293e71cb5b",
      "bcdf67258cf84016b7abbe0cca9cda4a",
      "4be58e65b3264b2786c8ed2ae7dbfc4b",
      "074433c709824345af1c71c3c3988581",
      "95bd39ffc2a94dba84a5cc846d9c3204",
      "e514a4716f3b43558794d012a2221f74",
      "e7fcefa65be14021b1d92f6f7192c819",
      "3b460e6e4c25424fa5eaa48b16a54b6e",
      "bf4b9913873a4ae8be67f5c8a2e9d071",
      "094fe09c56044cefa123336960eb2961",
      "15a459f3513e4d31b31790781c4cd844",
      "963bb9c1ec394c61ad21107174aa0ffd",
      "ab89fcb7396f46d9ba4afe7369b49963",
      "fe1e2627c7f74fb6a3e501fe667e2e9b",
      "750e5f26fd4b4bc1a2b3cafcf53eb05a",
      "24665913178b4c0e992c451d25728250",
      "9614f2c412c54c3889c1280db0258dc7",
      "91cd91a776a14fe3a0799b2cfc80fa0a",
      "f38e1f3bc5264c7394e544a72ed58f16",
      "c38b32adc5ad4366b3ff248864805727",
      "41a7e6e8feda460683a4d2c9f7506665",
      "a87291fb5c1b4864b1e85febbcf1bfc2",
      "9aacb4ba9f2c4f868e1e34466262a8f8",
      "4110676714e841048c31cbc5b7f67fe5",
      "b0c3ff5f38354ca48211f209bb2643dd",
      "ea53f6e9b2f142fd870cb8d74b8ae67b",
      "f24aba0a576845f1ae6b8bd79c132460",
      "8a8bc96cf46d409a8ba0093564e040a0",
      "eab4f7d1ba344f2d8bd600d6660d721e",
      "96a1d768c8c343208c8034db1625a386",
      "a1e9299250ae46248926786da8ba5a78",
      "d910edb2f9ec4d01bc02b73f9b12b638",
      "2eb19674dcca476e97c767bdd25fbec2",
      "c381a02acc424de09343b57b50d20553",
      "aa8ee67708dc4091b46d5b70da1af879",
      "23cc74ff7b2d4050a892472cb09e6644",
      "b8563290c9e54c1a987b3e69dd432150",
      "acdb07b164764930919db7c71c8167cf",
      "dec6052d90c7475ba6e867ba83714c99",
      "99222bec9d044bacb090395f5ef83154",
      "fe8bc2cb22854309be23045e05aee54e"
     ]
    },
    "id": "sc5fJmekCl24",
    "outputId": "f3b830ac-f61f-4719-cb0f-a439482f5f4b"
   },
   "outputs": [
    {
     "data": {
      "application/vnd.jupyter.widget-view+json": {
       "model_id": "c5b92a11a3c848be8e028830dd4f5992",
       "version_major": 2,
       "version_minor": 0
      },
      "text/plain": [
       "config.json: 0.00B [00:00, ?B/s]"
      ]
     },
     "metadata": {},
     "output_type": "display_data"
    },
    {
     "data": {
      "application/vnd.jupyter.widget-view+json": {
       "model_id": "da301b5acc6f4035ba223933638bb735",
       "version_major": 2,
       "version_minor": 0
      },
      "text/plain": [
       "model.safetensors:   0%|          | 0.00/990M [00:00<?, ?B/s]"
      ]
     },
     "metadata": {},
     "output_type": "display_data"
    },
    {
     "data": {
      "application/vnd.jupyter.widget-view+json": {
       "model_id": "7f671ed88a0143f5a8ab76e339bd2a68",
       "version_major": 2,
       "version_minor": 0
      },
      "text/plain": [
       "generation_config.json:   0%|          | 0.00/147 [00:00<?, ?B/s]"
      ]
     },
     "metadata": {},
     "output_type": "display_data"
    },
    {
     "data": {
      "application/vnd.jupyter.widget-view+json": {
       "model_id": "46cbe256271741c793c38630c8be76c2",
       "version_major": 2,
       "version_minor": 0
      },
      "text/plain": [
       "tokenizer_config.json: 0.00B [00:00, ?B/s]"
      ]
     },
     "metadata": {},
     "output_type": "display_data"
    },
    {
     "data": {
      "application/vnd.jupyter.widget-view+json": {
       "model_id": "bf4b9913873a4ae8be67f5c8a2e9d071",
       "version_major": 2,
       "version_minor": 0
      },
      "text/plain": [
       "spiece.model:   0%|          | 0.00/792k [00:00<?, ?B/s]"
      ]
     },
     "metadata": {},
     "output_type": "display_data"
    },
    {
     "data": {
      "application/vnd.jupyter.widget-view+json": {
       "model_id": "c38b32adc5ad4366b3ff248864805727",
       "version_major": 2,
       "version_minor": 0
      },
      "text/plain": [
       "tokenizer.json: 0.00B [00:00, ?B/s]"
      ]
     },
     "metadata": {},
     "output_type": "display_data"
    },
    {
     "data": {
      "application/vnd.jupyter.widget-view+json": {
       "model_id": "a1e9299250ae46248926786da8ba5a78",
       "version_major": 2,
       "version_minor": 0
      },
      "text/plain": [
       "special_tokens_map.json: 0.00B [00:00, ?B/s]"
      ]
     },
     "metadata": {},
     "output_type": "display_data"
    },
    {
     "name": "stderr",
     "output_type": "stream",
     "text": [
      "Device set to use cpu\n"
     ]
    },
    {
     "name": "stdout",
     "output_type": "stream",
     "text": [
      "✅ Local model loaded.\n"
     ]
    }
   ],
   "source": [
    "#Use a Local Model like flan-t5-base\n",
    "from transformers import pipeline\n",
    "\n",
    "# Load the model locally from Hugging Face\n",
    "qa_pipeline = pipeline(\"text2text-generation\", model=\"google/flan-t5-base\")\n",
    "\n",
    "print(\"✅ Local model loaded.\")\n"
   ]
  },
  {
   "cell_type": "code",
   "execution_count": null,
   "metadata": {
    "colab": {
     "base_uri": "https://localhost:8080/"
    },
    "id": "YonfpbSCIGgz",
    "outputId": "827ebedb-8f2a-4648-fb99-f25375fdf219"
   },
   "outputs": [
    {
     "name": "stdout",
     "output_type": "stream",
     "text": [
      "20\n",
      "To initiate a refund, contact support@company.com with your order ID.\n"
     ]
    }
   ],
   "source": [
    "#Ask Questions\n",
    "def ask_question_local(question):\n",
    "    # Get top relevant text chunks\n",
    "    docs = vectorstore.similarity_search(question, k=2)\n",
    "\n",
    "    # Combine them into a context\n",
    "    context = \"\\n\".join([doc.page_content for doc in docs])\n",
    "\n",
    "    # Full sentence instruction prompt\n",
    "    prompt = f\"\"\"\n",
    "    Answer the question based only on the context provided below.\n",
    "    Write a complete sentence, and don't make things up.\n",
    "\n",
    "    Context:\n",
    "    {context}\n",
    "\n",
    "    Question:\n",
    "    {question}\n",
    "\n",
    "    Answer:\n",
    "    \"\"\"\n",
    "\n",
    "    result = qa_pipeline(prompt, max_new_tokens=150, do_sample=False)\n",
    "    return result[0]['generated_text'].strip()\n",
    "print(ask_question_local(\"How many paid leaves do I get?\"))\n",
    "print(ask_question_local(\"How to request a refund?\"))\n"
   ]
  },
  {
   "cell_type": "code",
   "execution_count": null,
   "metadata": {
    "id": "ioFptDGXJ2RA"
   },
   "outputs": [],
   "source": [
    "#install Gradio\n",
    "!pip install -q gradio"
   ]
  },
  {
   "cell_type": "code",
   "execution_count": null,
   "metadata": {
    "id": "6ZmbmosZNzJt"
   },
   "outputs": [],
   "source": [
    "#Define your chatbot function\n",
    "def chatbot_interface(question):\n",
    "    if question.strip() == \"\":\n",
    "        return \"Please enter a valid question.\"\n",
    "    answer = ask_question_local(question)\n",
    "    return answer\n"
   ]
  },
  {
   "cell_type": "code",
   "execution_count": null,
   "metadata": {
    "colab": {
     "base_uri": "https://localhost:8080/",
     "height": 626
    },
    "id": "J9r-kymPN6cZ",
    "outputId": "5f85fae5-bf8c-4761-cab1-49c5145b4d58"
   },
   "outputs": [
    {
     "name": "stdout",
     "output_type": "stream",
     "text": [
      "It looks like you are running Gradio on a hosted a Jupyter notebook. For the Gradio app to work, sharing must be enabled. Automatically setting `share=True` (you can turn this off by setting `share=False` in `launch()` explicitly).\n",
      "\n",
      "Colab notebook detected. To show errors in colab notebook, set debug=True in launch()\n",
      "* Running on public URL: https://c8def3998924d79681.gradio.live\n",
      "\n",
      "This share link expires in 1 week. For free permanent hosting and GPU upgrades, run `gradio deploy` from the terminal in the working directory to deploy to Hugging Face Spaces (https://huggingface.co/spaces)\n"
     ]
    },
    {
     "data": {
      "text/html": [
       "<div><iframe src=\"https://c8def3998924d79681.gradio.live\" width=\"100%\" height=\"500\" allow=\"autoplay; camera; microphone; clipboard-read; clipboard-write;\" frameborder=\"0\" allowfullscreen></iframe></div>"
      ],
      "text/plain": [
       "<IPython.core.display.HTML object>"
      ]
     },
     "metadata": {},
     "output_type": "display_data"
    },
    {
     "data": {
      "text/plain": []
     },
     "execution_count": 15,
     "metadata": {},
     "output_type": "execute_result"
    }
   ],
   "source": [
    "#Create the Gradio UI\n",
    "import gradio as gr\n",
    "\n",
    "iface = gr.Interface(\n",
    "    fn=chatbot_interface,\n",
    "    inputs=gr.Textbox(lines=2, placeholder=\"Ask me something about internal policies...\"),\n",
    "    outputs=\"text\",\n",
    "    title=\"📄 Internal Docs Q&A Assistant\",\n",
    "    description=\"Ask questions like 'How many paid leaves?' or 'How to request design assets?'\",\n",
    "    theme=\"default\"\n",
    ")\n",
    "\n",
    "iface.launch()\n"
   ]
  },
  {
   "cell_type": "code",
   "execution_count": null,
   "metadata": {
    "id": "5Vm3OP-pRYo5"
   },
   "outputs": [],
   "source": [
    "!pip install -q transformers"
   ]
  },
  {
   "cell_type": "code",
   "execution_count": null,
   "metadata": {
    "colab": {
     "base_uri": "https://localhost:8080/"
    },
    "id": "x3VtM6PTQgTD",
    "outputId": "d3141401-cf9b-4057-d8e8-21a3c98709a2"
   },
   "outputs": [
    {
     "name": "stdout",
     "output_type": "stream",
     "text": [
      "Requirement already satisfied: transformers in /usr/local/lib/python3.11/dist-packages (4.53.2)\n",
      "Requirement already satisfied: gradio in /usr/local/lib/python3.11/dist-packages (5.31.0)\n",
      "Requirement already satisfied: filelock in /usr/local/lib/python3.11/dist-packages (from transformers) (3.18.0)\n",
      "Requirement already satisfied: huggingface-hub<1.0,>=0.30.0 in /usr/local/lib/python3.11/dist-packages (from transformers) (0.33.4)\n",
      "Requirement already satisfied: numpy>=1.17 in /usr/local/lib/python3.11/dist-packages (from transformers) (2.0.2)\n",
      "Requirement already satisfied: packaging>=20.0 in /usr/local/lib/python3.11/dist-packages (from transformers) (25.0)\n",
      "Requirement already satisfied: pyyaml>=5.1 in /usr/local/lib/python3.11/dist-packages (from transformers) (6.0.2)\n",
      "Requirement already satisfied: regex!=2019.12.17 in /usr/local/lib/python3.11/dist-packages (from transformers) (2024.11.6)\n",
      "Requirement already satisfied: requests in /usr/local/lib/python3.11/dist-packages (from transformers) (2.32.3)\n",
      "Requirement already satisfied: tokenizers<0.22,>=0.21 in /usr/local/lib/python3.11/dist-packages (from transformers) (0.21.2)\n",
      "Requirement already satisfied: safetensors>=0.4.3 in /usr/local/lib/python3.11/dist-packages (from transformers) (0.5.3)\n",
      "Requirement already satisfied: tqdm>=4.27 in /usr/local/lib/python3.11/dist-packages (from transformers) (4.67.1)\n",
      "Requirement already satisfied: aiofiles<25.0,>=22.0 in /usr/local/lib/python3.11/dist-packages (from gradio) (24.1.0)\n",
      "Requirement already satisfied: anyio<5.0,>=3.0 in /usr/local/lib/python3.11/dist-packages (from gradio) (4.9.0)\n",
      "Requirement already satisfied: fastapi<1.0,>=0.115.2 in /usr/local/lib/python3.11/dist-packages (from gradio) (0.116.1)\n",
      "Requirement already satisfied: ffmpy in /usr/local/lib/python3.11/dist-packages (from gradio) (0.6.0)\n",
      "Requirement already satisfied: gradio-client==1.10.1 in /usr/local/lib/python3.11/dist-packages (from gradio) (1.10.1)\n",
      "Requirement already satisfied: groovy~=0.1 in /usr/local/lib/python3.11/dist-packages (from gradio) (0.1.2)\n",
      "Requirement already satisfied: httpx>=0.24.1 in /usr/local/lib/python3.11/dist-packages (from gradio) (0.28.1)\n",
      "Requirement already satisfied: jinja2<4.0 in /usr/local/lib/python3.11/dist-packages (from gradio) (3.1.6)\n",
      "Requirement already satisfied: markupsafe<4.0,>=2.0 in /usr/local/lib/python3.11/dist-packages (from gradio) (3.0.2)\n",
      "Requirement already satisfied: orjson~=3.0 in /usr/local/lib/python3.11/dist-packages (from gradio) (3.11.0)\n",
      "Requirement already satisfied: pandas<3.0,>=1.0 in /usr/local/lib/python3.11/dist-packages (from gradio) (2.2.2)\n",
      "Requirement already satisfied: pillow<12.0,>=8.0 in /usr/local/lib/python3.11/dist-packages (from gradio) (11.2.1)\n",
      "Requirement already satisfied: pydantic<2.12,>=2.0 in /usr/local/lib/python3.11/dist-packages (from gradio) (2.11.7)\n",
      "Requirement already satisfied: pydub in /usr/local/lib/python3.11/dist-packages (from gradio) (0.25.1)\n",
      "Requirement already satisfied: python-multipart>=0.0.18 in /usr/local/lib/python3.11/dist-packages (from gradio) (0.0.20)\n",
      "Requirement already satisfied: ruff>=0.9.3 in /usr/local/lib/python3.11/dist-packages (from gradio) (0.12.3)\n",
      "Requirement already satisfied: safehttpx<0.2.0,>=0.1.6 in /usr/local/lib/python3.11/dist-packages (from gradio) (0.1.6)\n",
      "Requirement already satisfied: semantic-version~=2.0 in /usr/local/lib/python3.11/dist-packages (from gradio) (2.10.0)\n",
      "Requirement already satisfied: starlette<1.0,>=0.40.0 in /usr/local/lib/python3.11/dist-packages (from gradio) (0.47.1)\n",
      "Requirement already satisfied: tomlkit<0.14.0,>=0.12.0 in /usr/local/lib/python3.11/dist-packages (from gradio) (0.13.3)\n",
      "Requirement already satisfied: typer<1.0,>=0.12 in /usr/local/lib/python3.11/dist-packages (from gradio) (0.16.0)\n",
      "Requirement already satisfied: typing-extensions~=4.0 in /usr/local/lib/python3.11/dist-packages (from gradio) (4.14.1)\n",
      "Requirement already satisfied: uvicorn>=0.14.0 in /usr/local/lib/python3.11/dist-packages (from gradio) (0.35.0)\n",
      "Requirement already satisfied: fsspec in /usr/local/lib/python3.11/dist-packages (from gradio-client==1.10.1->gradio) (2025.3.2)\n",
      "Requirement already satisfied: websockets<16.0,>=10.0 in /usr/local/lib/python3.11/dist-packages (from gradio-client==1.10.1->gradio) (15.0.1)\n",
      "Requirement already satisfied: idna>=2.8 in /usr/local/lib/python3.11/dist-packages (from anyio<5.0,>=3.0->gradio) (3.10)\n",
      "Requirement already satisfied: sniffio>=1.1 in /usr/local/lib/python3.11/dist-packages (from anyio<5.0,>=3.0->gradio) (1.3.1)\n",
      "Requirement already satisfied: certifi in /usr/local/lib/python3.11/dist-packages (from httpx>=0.24.1->gradio) (2025.7.14)\n",
      "Requirement already satisfied: httpcore==1.* in /usr/local/lib/python3.11/dist-packages (from httpx>=0.24.1->gradio) (1.0.9)\n",
      "Requirement already satisfied: h11>=0.16 in /usr/local/lib/python3.11/dist-packages (from httpcore==1.*->httpx>=0.24.1->gradio) (0.16.0)\n",
      "Requirement already satisfied: hf-xet<2.0.0,>=1.1.2 in /usr/local/lib/python3.11/dist-packages (from huggingface-hub<1.0,>=0.30.0->transformers) (1.1.5)\n",
      "Requirement already satisfied: python-dateutil>=2.8.2 in /usr/local/lib/python3.11/dist-packages (from pandas<3.0,>=1.0->gradio) (2.9.0.post0)\n",
      "Requirement already satisfied: pytz>=2020.1 in /usr/local/lib/python3.11/dist-packages (from pandas<3.0,>=1.0->gradio) (2025.2)\n",
      "Requirement already satisfied: tzdata>=2022.7 in /usr/local/lib/python3.11/dist-packages (from pandas<3.0,>=1.0->gradio) (2025.2)\n",
      "Requirement already satisfied: annotated-types>=0.6.0 in /usr/local/lib/python3.11/dist-packages (from pydantic<2.12,>=2.0->gradio) (0.7.0)\n",
      "Requirement already satisfied: pydantic-core==2.33.2 in /usr/local/lib/python3.11/dist-packages (from pydantic<2.12,>=2.0->gradio) (2.33.2)\n",
      "Requirement already satisfied: typing-inspection>=0.4.0 in /usr/local/lib/python3.11/dist-packages (from pydantic<2.12,>=2.0->gradio) (0.4.1)\n",
      "Requirement already satisfied: click>=8.0.0 in /usr/local/lib/python3.11/dist-packages (from typer<1.0,>=0.12->gradio) (8.2.1)\n",
      "Requirement already satisfied: shellingham>=1.3.0 in /usr/local/lib/python3.11/dist-packages (from typer<1.0,>=0.12->gradio) (1.5.4)\n",
      "Requirement already satisfied: rich>=10.11.0 in /usr/local/lib/python3.11/dist-packages (from typer<1.0,>=0.12->gradio) (13.9.4)\n",
      "Requirement already satisfied: charset-normalizer<4,>=2 in /usr/local/lib/python3.11/dist-packages (from requests->transformers) (3.4.2)\n",
      "Requirement already satisfied: urllib3<3,>=1.21.1 in /usr/local/lib/python3.11/dist-packages (from requests->transformers) (2.4.0)\n",
      "Requirement already satisfied: six>=1.5 in /usr/local/lib/python3.11/dist-packages (from python-dateutil>=2.8.2->pandas<3.0,>=1.0->gradio) (1.17.0)\n",
      "Requirement already satisfied: markdown-it-py>=2.2.0 in /usr/local/lib/python3.11/dist-packages (from rich>=10.11.0->typer<1.0,>=0.12->gradio) (3.0.0)\n",
      "Requirement already satisfied: pygments<3.0.0,>=2.13.0 in /usr/local/lib/python3.11/dist-packages (from rich>=10.11.0->typer<1.0,>=0.12->gradio) (2.19.2)\n",
      "Requirement already satisfied: mdurl~=0.1 in /usr/local/lib/python3.11/dist-packages (from markdown-it-py>=2.2.0->rich>=10.11.0->typer<1.0,>=0.12->gradio) (0.1.2)\n"
     ]
    }
   ],
   "source": [
    "!pip install transformers gradio"
   ]
  },
  {
   "cell_type": "code",
   "execution_count": null,
   "metadata": {
    "id": "Q534be5TQx1d"
   },
   "outputs": [],
   "source": [
    "def chat_with_bot(user_input, history=[]):\n",
    "    global chat_history_ids\n",
    "\n",
    "    # Encode user input and add to history\n",
    "    new_input_ids = tokenizer.encode(user_input + tokenizer.eos_token, return_tensors='pt')\n",
    "\n",
    "    bot_input_ids = torch.cat([chat_history_ids, new_input_ids], dim=-1) if chat_history_ids is not None else new_input_ids\n",
    "\n",
    "    chat_history_ids = model.generate(bot_input_ids, max_length=1000, pad_token_id=tokenizer.eos_token_id)\n",
    "\n",
    "    bot_output = tokenizer.decode(chat_history_ids[:, bot_input_ids.shape[-1]:][0], skip_special_tokens=True)\n",
    "\n",
    "    history.append((user_input, bot_output))\n",
    "    return history, history\n"
   ]
  },
  {
   "cell_type": "code",
   "execution_count": null,
   "metadata": {
    "colab": {
     "base_uri": "https://localhost:8080/",
     "height": 680
    },
    "id": "Plx4Ej2etEHK",
    "outputId": "80fae10f-fc68-48c2-c1ba-51c9d9c798b9"
   },
   "outputs": [
    {
     "name": "stderr",
     "output_type": "stream",
     "text": [
      "/tmp/ipython-input-30-1666045948.py:34: UserWarning: The 'tuples' format for chatbot messages is deprecated and will be removed in a future version of Gradio. Please set type='messages' instead, which uses openai-style 'role' and 'content' keys.\n",
      "  chatbot = gr.Chatbot(\n"
     ]
    },
    {
     "name": "stdout",
     "output_type": "stream",
     "text": [
      "It looks like you are running Gradio on a hosted a Jupyter notebook. For the Gradio app to work, sharing must be enabled. Automatically setting `share=True` (you can turn this off by setting `share=False` in `launch()` explicitly).\n",
      "\n",
      "Colab notebook detected. To show errors in colab notebook, set debug=True in launch()\n",
      "* Running on public URL: https://51355fc965bdcaae50.gradio.live\n",
      "\n",
      "This share link expires in 1 week. For free permanent hosting and GPU upgrades, run `gradio deploy` from the terminal in the working directory to deploy to Hugging Face Spaces (https://huggingface.co/spaces)\n"
     ]
    },
    {
     "data": {
      "text/html": [
       "<div><iframe src=\"https://51355fc965bdcaae50.gradio.live\" width=\"100%\" height=\"500\" allow=\"autoplay; camera; microphone; clipboard-read; clipboard-write;\" frameborder=\"0\" allowfullscreen></iframe></div>"
      ],
      "text/plain": [
       "<IPython.core.display.HTML object>"
      ]
     },
     "metadata": {},
     "output_type": "display_data"
    },
    {
     "data": {
      "text/plain": []
     },
     "execution_count": 30,
     "metadata": {},
     "output_type": "execute_result"
    }
   ],
   "source": [
    "import time\n",
    "import gradio as gr\n",
    "\n",
    "def chatbot_interface(user_input, history=[]):\n",
    "    # Add user message with emoji\n",
    "    history.append((\"👧 \" + user_input, \"🤖 Typing...\"))\n",
    "    time.sleep(1.2)\n",
    "\n",
    "    # Custom greetings and farewells\n",
    "    user_input_lower = user_input.lower().strip()\n",
    "    if user_input_lower in [\"hi\", \"hello\", \"hey\"]:\n",
    "        answer = \"Hi 👋 I'm here to help! Ask me anything about your team's policies or processes.\"\n",
    "    elif user_input_lower in [\"bye\", \"goodbye\", \"exit\", \"see you\",\"ok\",\"thankyou\"]:\n",
    "        answer = \"Goodbye! 👋 Feel free to come back if you have more questions.\"\n",
    "    else:\n",
    "        # Use your document-based Q&A function\n",
    "        answer = ask_question_local(user_input)\n",
    "\n",
    "    # Update history with actual response\n",
    "    history[-1] = (\"👧 \" + user_input, \"🤖 \" + answer)\n",
    "    return history, history\n",
    "\n",
    "\n",
    "with gr.Blocks(theme=gr.themes.Soft()) as demo:\n",
    "    gr.Markdown(\n",
    "        \"\"\"\n",
    "        <div style=\"text-align: center; margin-bottom: 20px;\">\n",
    "            <h1 style=\"color:#2b70e4;\">🤖 Internal Docs Assistant</h1>\n",
    "            <p style=\"font-size:16px;\">Ask me anything about internal policies and processes!</p>\n",
    "        </div>\n",
    "        \"\"\"\n",
    "    )\n",
    "\n",
    "    chatbot = gr.Chatbot(\n",
    "        label=\"Company Q&A Bot\",\n",
    "        avatar_images=(\"https://emojicdn.elk.sh/%F0%9F%91%A7\", \"https://emojicdn.elk.sh/%F0%9F%A4%96\"),\n",
    "        height=450,\n",
    "        show_label=False,\n",
    "        type='tuples'  # ✅ Fixed here!\n",
    "    )\n",
    "\n",
    "    msg = gr.Textbox(\n",
    "        placeholder=\"Ask your team-related question here...\",\n",
    "        label=\"\",\n",
    "    )\n",
    "\n",
    "    state = gr.State([])\n",
    "\n",
    "    msg.submit(chatbot_interface, [msg, state], [chatbot, state])\n",
    "    msg.submit(lambda: \"\", None, msg)  # Clear input box\n",
    "\n",
    "demo.launch()\n",
    "\n",
    "\n"
   ]
  }
 ],
 "metadata": {
  "colab": {
   "provenance": []
  },
  "kernelspec": {
   "display_name": "Python 3",
   "name": "python3"
  },
  "language_info": {
   "name": "python"
  }
 },
 "nbformat": 4,
 "nbformat_minor": 0
}
